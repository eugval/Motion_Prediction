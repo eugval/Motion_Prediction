{
 "cells": [
  {
   "cell_type": "code",
   "execution_count": 1,
   "metadata": {},
   "outputs": [
    {
     "name": "stderr",
     "output_type": "stream",
     "text": [
      "/opt/Python/Python-3.6/lib/python3.6/site-packages/h5py/__init__.py:34: FutureWarning: Conversion of the second argument of issubdtype from `float` to `np.floating` is deprecated. In future, it will be treated as `np.float64 == np.dtype(float).type`.\n",
      "  from ._conv import register_converters as _register_converters\n",
      "/opt/Python/Python-3.6/lib/python3.6/importlib/_bootstrap.py:205: RuntimeWarning: compiletime version 3.5 of module 'tensorflow.python.framework.fast_tensor_util' does not match runtime version 3.6\n",
      "  return f(*args, **kwds)\n"
     ]
    }
   ],
   "source": [
    "%matplotlib inline\n",
    "import torch.nn as nn\n",
    "import torch.nn.functional as F\n",
    "import torch.optim as optim\n",
    "import h5py\n",
    "import cv2\n",
    "import os\n",
    "import sys\n",
    "\n",
    "import matplotlib\n",
    "import matplotlib.pyplot as plt\n",
    "\n",
    "\n",
    "ROOT_DIR = os.path.abspath(\"../\")\n",
    "sys.path.append(ROOT_DIR)\n",
    "# Path to the processed and raw folders in the data\n",
    "PROCESSED_PATH = os.path.join(ROOT_DIR, \"../data/processed/\")\n",
    "RAW_PATH = os.path.join(ROOT_DIR, \"../data/raw/\")\n",
    "MODEL_PATH = os.path.join(ROOT_DIR,\"../models/\")\n",
    "\n",
    "\n",
    "data_file_name = \"Football1\"\n",
    "\n",
    "model_name = \"Mask_only_Simple_Unet\"\n",
    "\n",
    "\n",
    "\n",
    "model_folder = os.path.join(MODEL_PATH, \"{}/\".format(model_name))\n",
    "model_file = os.path.join(MODEL_PATH, \"{}/{}.pkl\".format(model_name,model_name))\n",
    "model_history_file = os.path.join(MODEL_PATH, \"{}/{}_history.pkl\".format(model_name,model_name))\n",
    "\n",
    "\n",
    "\n",
    "\n",
    "from torch.utils.data import Dataset, DataLoader\n",
    "from torchvision import transforms, utils\n",
    "import torch\n",
    "import numpy as np\n",
    "from preprocessing.utils import visualise_image, visualise_masks\n",
    "from scipy.spatial import distance\n"
   ]
  },
  {
   "cell_type": "code",
   "execution_count": null,
   "metadata": {
    "collapsed": true
   },
   "outputs": [],
   "source": [
    "class Net(nn.Module):\n",
    "    def __init__(self):\n",
    "        super(Net, self).__init__()\n",
    "        self.conv1 = nn.Conv2d(3, 8, 3,padding=1)\n",
    "        self.pool = nn.MaxPool2d(2, 2)\n",
    "        self.conv2 = nn.Conv2d(8,16,3,padding=1)\n",
    "        self.conv3 = nn.Conv2d(16,32,3,padding=1)\n",
    "        \n",
    "        self.deconv1 = nn.ConvTranspose2d(32,16,2,stride =2)\n",
    "        self.conv4 = nn.Conv2d(32,16,3,padding=1)\n",
    "    \n",
    "        self.deconv2 = nn.ConvTranspose2d(16,8,2, stride = 2)\n",
    "        self.conv5 = nn.Conv2d(16,8,3,padding=1)\n",
    "        \n",
    "        self.conv6 = nn.Conv2d(8,4,3,padding=1)\n",
    "        \n",
    "        self.conv7 = nn.Conv2d(4,1,1)\n",
    "\n",
    "    def forward(self, x):\n",
    "        x1 = self.conv1(x)\n",
    "        x1 = F.relu(x1)\n",
    "        \n",
    "       \n",
    "        \n",
    "        x2 = self.pool(x1)\n",
    "        x2 = self.conv2(x2)\n",
    "        x2 = F.relu(x2)\n",
    "        \n",
    "\n",
    "        x3 = self.pool(x2)\n",
    "        x3 = self.conv3(x3)\n",
    "        x3 = F.relu(x3)\n",
    "        \n",
    "        x4 = self.deconv1(x3)\n",
    "        x4 = torch.cat((x4, x2), 1)\n",
    "        x4 = self.conv4(x4)\n",
    "        x4 = F.relu(x4)\n",
    "        \n",
    "        \n",
    "        x5 = self.deconv2(x4)\n",
    "        x5 = torch.cat((x5, x1), 1)\n",
    "        x5 = self.conv5(x5)\n",
    "        x5 = F.relu(x5)\n",
    "        \n",
    "        \n",
    "        x6 = self.conv6(x5)\n",
    "        x6 = F.relu(x6)\n",
    "        x7 = self.conv7(x6)\n",
    "    \n",
    "        return x7\n",
    "\n",
    "\n",
    "net = Net()\n",
    "print(net)"
   ]
  },
  {
   "cell_type": "code",
   "execution_count": null,
   "metadata": {
    "collapsed": true
   },
   "outputs": [],
   "source": []
  },
  {
   "cell_type": "code",
   "execution_count": null,
   "metadata": {
    "collapsed": true
   },
   "outputs": [],
   "source": []
  },
  {
   "cell_type": "code",
   "execution_count": 3,
   "metadata": {
    "collapsed": true
   },
   "outputs": [],
   "source": [
    "class Data(Dataset):\n",
    "    \"\"\"Face Landmarks dataset.\"\"\"\n",
    "\n",
    "    def __init__(self, file_path, transform = None):\n",
    "        \"\"\"\n",
    "        Args:\n",
    "            csv_file (string): Path to the csv file with annotations.\n",
    "            root_dir (string): Directory with all the images.\n",
    "            transform (callable, optional): Optional transform to be applied\n",
    "                on a sample.\n",
    "        \"\"\"\n",
    "        self.f = h5py.File(file_path, \"r\")\n",
    "        self.transform = transform\n",
    "        self.datapoints = self.f['datapoints'].value[0]\n",
    "\n",
    "    def __len__(self):\n",
    "        return self.datapoints\n",
    "\n",
    "    def __getitem__(self, idx):\n",
    "        frame = \"datapoint{}\".format(idx)\n",
    "        image = self.f[frame]['masks'].value\n",
    "        label = self.f[frame]['future_mask'].value\n",
    "        \n",
    "        sample = {'input': image.astype(np.float), 'label': label.astype(np.float), 'centroid':self.f[frame]['future_centroid'].value}\n",
    "\n",
    "        if self.transform:\n",
    "            sample = self.transform(sample)\n",
    "\n",
    "        return sample"
   ]
  },
  {
   "cell_type": "code",
   "execution_count": 4,
   "metadata": {
    "collapsed": true
   },
   "outputs": [],
   "source": [
    "class ToTensor(object):\n",
    "    \"\"\"Convert ndarrays in sample to Tensors.\"\"\"\n",
    "\n",
    "    def __call__(self, sample):\n",
    "        image, label = sample['input'], sample['label']\n",
    "\n",
    "        # swap color axis because\n",
    "        # numpy image: H x W x C\n",
    "        # torch image: C X H X W\n",
    "        \n",
    "        image = cv2.resize(image, (int(256),int( 128)))\n",
    "        label = cv2.resize(label, (int(256),int( 128)))\n",
    "        \n",
    "        image = image.transpose((2, 0, 1))\n",
    "        return {'input': torch.from_numpy(image).float(),\n",
    "                'label': torch.from_numpy(label).float(),\n",
    "                'centroid': sample['centroid']}"
   ]
  },
  {
   "cell_type": "code",
   "execution_count": 5,
   "metadata": {
    "collapsed": true
   },
   "outputs": [],
   "source": [
    "data_file_name = \"football1_sm5\"\n",
    "dataset_file = os.path.join(PROCESSED_PATH, \"{}/{}_dataset.hdf5\".format(data_file_name,data_file_name))\n",
    "dataset = Data(dataset_file, transform = ToTensor())"
   ]
  },
  {
   "cell_type": "code",
   "execution_count": 6,
   "metadata": {
    "collapsed": true
   },
   "outputs": [],
   "source": [
    "dataloader = DataLoader(dataset, batch_size=4,\n",
    "                        shuffle=True)"
   ]
  },
  {
   "cell_type": "code",
   "execution_count": 7,
   "metadata": {
    "collapsed": true
   },
   "outputs": [],
   "source": [
    "def find_mean_distance(batch_outputs, batch_c_true):\n",
    "    #TODO: make sure that centroid coordinates start counting from 0 rather than from 1\n",
    "    \n",
    "    np_gauss = batch_gauss.detach().numpy()\n",
    "    np_gauss = np.squeeze(np_gauss)\n",
    "    np_c_true = batch_c_true.numpy()\n",
    "    \n",
    "    batch_c_pred = np.stack([np.unravel_index(np.argmax(np_gauss[i,:,:]),np_gauss[i,:,:].shape) for i in range(np_gauss.shape[0])],axis=0)\n",
    "    dist = np.linalg.norm(batch_c_pred-np_c_true, axis = 1)\n",
    "    \n",
    "    return np.mean(dist)"
   ]
  },
  {
   "cell_type": "code",
   "execution_count": 8,
   "metadata": {},
   "outputs": [
    {
     "name": "stdout",
     "output_type": "stream",
     "text": [
      "[1,    49] loss: 406.608 distance : 37.816\n",
      "[2,    49] loss: 593.794 distance : 48.779\n",
      "[3,    49] loss: 318.901 distance : 35.025\n",
      "[4,    49] loss: 102.362 distance : 39.994\n",
      "[5,    49] loss: 208.653 distance : 31.642\n",
      "[6,    49] loss: 225.597 distance : 34.956\n",
      "[7,    49] loss: 288.561 distance : 25.921\n",
      "[8,    49] loss: 604.607 distance : 36.840\n",
      "[9,    49] loss: 318.393 distance : 30.403\n",
      "[10,    49] loss: 316.740 distance : 39.052\n"
     ]
    }
   ],
   "source": [
    "criterion = nn.MSELoss(size_average = False) \n",
    "optimizer = optim.RMSprop(net.parameters(), lr=0.001)\n",
    "\n",
    "\n",
    "for epoch in range(10):  # loop over the dataset multiple times\n",
    "\n",
    "    running_loss = []\n",
    "    running_distance = []\n",
    "    for i, data in enumerate(dataloader):\n",
    "        # get the inputs\n",
    "        inputs = data['input']\n",
    "        labels = data['label']\n",
    "        labels = labels.unsqueeze(1)\n",
    "        \n",
    "        \n",
    "        # zero the parameter gradients\n",
    "        optimizer.zero_grad()\n",
    "    \n",
    "        # forward + backward + optimize\n",
    "        outputs = net(inputs)\n",
    "        loss = criterion(outputs, labels)\n",
    "        loss.backward()\n",
    "        optimizer.step()\n",
    "\n",
    "        # print statistics\n",
    "        l2 = loss.item()\n",
    "        c_true = data['centroid']\n",
    "        \n",
    "        dist = find_mean_distance(outputs,c_true)\n",
    "\n",
    "        running_distance.append(dist)\n",
    "        running_loss.append(loss.item())\n",
    "    if epoch % 1 == 0:    # print every 2000 mini-batches\n",
    "        print('[%d, %5d] loss: %.3f distance : %.3f' %\n",
    "              (epoch + 1, i + 1, running_loss[i],running_distance[i]))\n",
    "\n",
    "\n"
   ]
  },
  {
   "cell_type": "code",
   "execution_count": 9,
   "metadata": {},
   "outputs": [
    {
     "data": {
      "text/plain": [
       "torch.Size([3, 1, 128, 256])"
      ]
     },
     "execution_count": 9,
     "metadata": {},
     "output_type": "execute_result"
    }
   ],
   "source": [
    "outputs = net(inputs)\n",
    "outputs.shape"
   ]
  },
  {
   "cell_type": "code",
   "execution_count": 14,
   "metadata": {},
   "outputs": [
    {
     "ename": "NameError",
     "evalue": "name 'labels' is not defined",
     "traceback": [
      "\u001b[0;31m---------------------------------------------------------------------------\u001b[0m",
      "\u001b[0;31mNameError\u001b[0m                                 Traceback (most recent call last)",
      "\u001b[0;32m<ipython-input-14-e2473353768e>\u001b[0m in \u001b[0;36m<module>\u001b[0;34m()\u001b[0m\n\u001b[1;32m      2\u001b[0m \u001b[0;32mimport\u001b[0m \u001b[0mmatplotlib\u001b[0m\u001b[0;34m.\u001b[0m\u001b[0mpyplot\u001b[0m \u001b[0;32mas\u001b[0m \u001b[0mplt\u001b[0m\u001b[0;34m\u001b[0m\u001b[0m\n\u001b[1;32m      3\u001b[0m \u001b[0;34m\u001b[0m\u001b[0m\n\u001b[0;32m----> 4\u001b[0;31m \u001b[0mprint\u001b[0m\u001b[0;34m(\u001b[0m\u001b[0mlabels\u001b[0m\u001b[0;34m.\u001b[0m\u001b[0mshape\u001b[0m\u001b[0;34m)\u001b[0m\u001b[0;34m\u001b[0m\u001b[0m\n\u001b[0m\u001b[1;32m      5\u001b[0m \u001b[0mloss\u001b[0m \u001b[0;34m=\u001b[0m \u001b[0mcriterion\u001b[0m\u001b[0;34m(\u001b[0m\u001b[0moutputs\u001b[0m\u001b[0;34m,\u001b[0m \u001b[0mlabels\u001b[0m\u001b[0;34m)\u001b[0m\u001b[0;34m\u001b[0m\u001b[0m\n\u001b[1;32m      6\u001b[0m \u001b[0;34m\u001b[0m\u001b[0m\n",
      "\u001b[0;31mNameError\u001b[0m: name 'labels' is not defined"
     ],
     "output_type": "error"
    }
   ],
   "source": [
    "\n",
    "\n",
    "print(labels.shape)\n",
    "loss = criterion(outputs, labels)\n",
    "\n",
    "print(np.sum(np.square(outputs.detach().numpy()[2,0,:,:] - labels.detach().numpy()[2,0,:,:])))\n",
    "\n",
    "print(loss)\n",
    "\n",
    "print(outputs.detach().numpy()[2,0,:,:])\n",
    "\n",
    "print(np.sum(outputs.detach().numpy()[2,0,:,:]))\n",
    "\n",
    "visualise_image(outputs.detach().numpy()[1,0,:,:] )\n",
    "visualise_image(labels.detach().numpy()[1,0,:,:])\n",
    "print(np.unique(labels.detach().numpy()[1,0,:,:]))\n",
    "\n",
    "print(np.sum(labels.detach().numpy()[2,0,:,:]))\n",
    "\n"
   ]
  },
  {
   "cell_type": "code",
   "execution_count": 17,
   "metadata": {
    "collapsed": true
   },
   "outputs": [],
   "source": [
    "def plot_metrics(metric, metric_name):\n",
    "    plt.plot(np.arange(len(metric)), metric)\n",
    "    plt.xlabel('batches')\n",
    "    plt.ylabel(metric_name)\n",
    "    plt.title('{} vs training time'.format(metric_name))\n",
    "    plt.yscale('log')\n",
    "    \n",
    "    \n",
    "    save_path = os.path.join(model_folder, \"{}_plot.jpg\".format(metric_name))\n",
    "    \n",
    "    plt.savefig(save_path)\n",
    "    plt.show()\n",
    "    plt.close()\n",
    "    "
   ]
  },
  {
   "cell_type": "code",
   "execution_count": 12,
   "metadata": {},
   "outputs": [
    {
     "data": {
      "image/png": "[encoded data removed]",
      "text/plain": [
       "<matplotlib.figure.Figure at 0x121fa8ef0>"
      ]
     },
     "metadata": {},
     "output_type": "display_data"
    }
   ],
   "source": [
    "plot_metrics(running_loss)"
   ]
  },
  {
   "cell_type": "code",
   "execution_count": 13,
   "metadata": {},
   "outputs": [
    {
     "data": {
      "image/png": "[encoded data removed]",
      "text/plain": [
       "<matplotlib.figure.Figure at 0x121fa8940>"
      ]
     },
     "metadata": {},
     "output_type": "display_data"
    }
   ],
   "source": [
    "plot_metrics(running_distance)"
   ]
  },
  {
   "cell_type": "code",
   "execution_count": 14,
   "metadata": {},
   "outputs": [
    {
     "name": "stdout",
     "output_type": "stream",
     "text": [
      "0\n",
      "torch.Size([3, 128, 256]) torch.Size([128, 256])\n",
      "1\n",
      "torch.Size([3, 128, 256]) torch.Size([128, 256])\n",
      "2\n",
      "torch.Size([3, 128, 256]) torch.Size([128, 256])\n",
      "3\n",
      "torch.Size([3, 128, 256]) torch.Size([128, 256])\n",
      "4\n",
      "torch.Size([3, 128, 256]) torch.Size([128, 256])\n",
      "5\n",
      "torch.Size([3, 128, 256]) torch.Size([128, 256])\n",
      "6\n",
      "torch.Size([3, 128, 256]) torch.Size([128, 256])\n",
      "7\n",
      "torch.Size([3, 128, 256]) torch.Size([128, 256])\n",
      "8\n",
      "torch.Size([3, 128, 256]) torch.Size([128, 256])\n",
      "9\n",
      "torch.Size([3, 128, 256]) torch.Size([128, 256])\n",
      "10\n",
      "torch.Size([3, 128, 256]) torch.Size([128, 256])\n",
      "11\n",
      "torch.Size([3, 128, 256]) torch.Size([128, 256])\n",
      "12\n",
      "torch.Size([3, 128, 256]) torch.Size([128, 256])\n",
      "13\n",
      "torch.Size([3, 128, 256]) torch.Size([128, 256])\n",
      "14\n",
      "torch.Size([3, 128, 256]) torch.Size([128, 256])\n",
      "15\n",
      "torch.Size([3, 128, 256]) torch.Size([128, 256])\n",
      "16\n",
      "torch.Size([3, 128, 256]) torch.Size([128, 256])\n",
      "17\n",
      "torch.Size([3, 128, 256]) torch.Size([128, 256])\n",
      "18\n",
      "torch.Size([3, 128, 256]) torch.Size([128, 256])\n",
      "19\n",
      "torch.Size([3, 128, 256]) torch.Size([128, 256])\n",
      "20\n",
      "torch.Size([3, 128, 256]) torch.Size([128, 256])\n",
      "21\n",
      "torch.Size([3, 128, 256]) torch.Size([128, 256])\n",
      "22\n",
      "torch.Size([3, 128, 256]) torch.Size([128, 256])\n",
      "23\n",
      "torch.Size([3, 128, 256]) torch.Size([128, 256])\n",
      "24\n",
      "torch.Size([3, 128, 256]) torch.Size([128, 256])\n",
      "25\n",
      "torch.Size([3, 128, 256]) torch.Size([128, 256])\n",
      "26\n",
      "torch.Size([3, 128, 256]) torch.Size([128, 256])\n",
      "27\n",
      "torch.Size([3, 128, 256]) torch.Size([128, 256])\n",
      "28\n",
      "torch.Size([3, 128, 256]) torch.Size([128, 256])\n",
      "29\n",
      "torch.Size([3, 128, 256]) torch.Size([128, 256])\n",
      "30\n",
      "torch.Size([3, 128, 256]) torch.Size([128, 256])\n",
      "31\n",
      "torch.Size([3, 128, 256]) torch.Size([128, 256])\n",
      "32\n",
      "torch.Size([3, 128, 256]) torch.Size([128, 256])\n",
      "33\n",
      "torch.Size([3, 128, 256]) torch.Size([128, 256])\n",
      "34\n",
      "torch.Size([3, 128, 256]) torch.Size([128, 256])\n",
      "35\n",
      "torch.Size([3, 128, 256]) torch.Size([128, 256])\n",
      "36\n",
      "torch.Size([3, 128, 256]) torch.Size([128, 256])\n",
      "37\n",
      "torch.Size([3, 128, 256]) torch.Size([128, 256])\n",
      "38\n",
      "torch.Size([3, 128, 256]) torch.Size([128, 256])\n",
      "39\n",
      "torch.Size([3, 128, 256]) torch.Size([128, 256])\n",
      "40\n",
      "torch.Size([3, 128, 256]) torch.Size([128, 256])\n",
      "41\n",
      "torch.Size([3, 128, 256]) torch.Size([128, 256])\n",
      "42\n",
      "torch.Size([3, 128, 256]) torch.Size([128, 256])\n",
      "43\n",
      "torch.Size([3, 128, 256]) torch.Size([128, 256])\n",
      "44\n",
      "torch.Size([3, 128, 256]) torch.Size([128, 256])\n",
      "45\n",
      "torch.Size([3, 128, 256]) torch.Size([128, 256])\n",
      "46\n",
      "torch.Size([3, 128, 256]) torch.Size([128, 256])\n",
      "47\n",
      "torch.Size([3, 128, 256]) torch.Size([128, 256])\n",
      "48\n",
      "torch.Size([3, 128, 256]) torch.Size([128, 256])\n",
      "49\n",
      "torch.Size([3, 128, 256]) torch.Size([128, 256])\n",
      "50\n",
      "torch.Size([3, 128, 256]) torch.Size([128, 256])\n",
      "51\n",
      "torch.Size([3, 128, 256]) torch.Size([128, 256])\n",
      "52\n",
      "torch.Size([3, 128, 256]) torch.Size([128, 256])\n",
      "53\n",
      "torch.Size([3, 128, 256]) torch.Size([128, 256])\n",
      "54\n",
      "torch.Size([3, 128, 256]) torch.Size([128, 256])\n",
      "55\n",
      "torch.Size([3, 128, 256]) torch.Size([128, 256])\n",
      "56\n",
      "torch.Size([3, 128, 256]) torch.Size([128, 256])\n",
      "57\n",
      "torch.Size([3, 128, 256]) torch.Size([128, 256])\n",
      "58\n",
      "torch.Size([3, 128, 256]) torch.Size([128, 256])\n",
      "59\n",
      "torch.Size([3, 128, 256]) torch.Size([128, 256])\n",
      "60\n",
      "torch.Size([3, 128, 256]) torch.Size([128, 256])\n",
      "61\n",
      "torch.Size([3, 128, 256]) torch.Size([128, 256])\n",
      "62\n",
      "torch.Size([3, 128, 256]) torch.Size([128, 256])\n",
      "63\n",
      "torch.Size([3, 128, 256]) torch.Size([128, 256])\n",
      "64\n",
      "torch.Size([3, 128, 256]) torch.Size([128, 256])\n",
      "65\n",
      "torch.Size([3, 128, 256]) torch.Size([128, 256])\n",
      "66\n",
      "torch.Size([3, 128, 256]) torch.Size([128, 256])\n",
      "67\n",
      "torch.Size([3, 128, 256]) torch.Size([128, 256])\n",
      "68\n",
      "torch.Size([3, 128, 256]) torch.Size([128, 256])\n",
      "69\n",
      "torch.Size([3, 128, 256]) torch.Size([128, 256])\n",
      "70\n",
      "torch.Size([3, 128, 256]) torch.Size([128, 256])\n",
      "71\n",
      "torch.Size([3, 128, 256]) torch.Size([128, 256])\n",
      "72\n",
      "torch.Size([3, 128, 256]) torch.Size([128, 256])\n",
      "73\n",
      "torch.Size([3, 128, 256]) torch.Size([128, 256])\n",
      "74\n",
      "torch.Size([3, 128, 256]) torch.Size([128, 256])\n",
      "75\n",
      "torch.Size([3, 128, 256]) torch.Size([128, 256])\n",
      "76\n",
      "torch.Size([3, 128, 256]) torch.Size([128, 256])\n",
      "77\n",
      "torch.Size([3, 128, 256]) torch.Size([128, 256])\n",
      "78\n",
      "torch.Size([3, 128, 256]) torch.Size([128, 256])\n",
      "79\n",
      "torch.Size([3, 128, 256]) torch.Size([128, 256])\n",
      "80\n",
      "torch.Size([3, 128, 256]) torch.Size([128, 256])\n",
      "81\n",
      "torch.Size([3, 128, 256]) torch.Size([128, 256])\n",
      "82\n",
      "torch.Size([3, 128, 256]) torch.Size([128, 256])\n",
      "83\n",
      "torch.Size([3, 128, 256]) torch.Size([128, 256])\n",
      "84\n",
      "torch.Size([3, 128, 256]) torch.Size([128, 256])\n",
      "85\n",
      "torch.Size([3, 128, 256]) torch.Size([128, 256])\n",
      "86\n",
      "torch.Size([3, 128, 256]) torch.Size([128, 256])\n",
      "87\n",
      "torch.Size([3, 128, 256]) torch.Size([128, 256])\n",
      "88\n",
      "torch.Size([3, 128, 256]) torch.Size([128, 256])\n",
      "89\n",
      "torch.Size([3, 128, 256]) torch.Size([128, 256])\n",
      "90\n",
      "torch.Size([3, 128, 256]) torch.Size([128, 256])\n",
      "91\n",
      "torch.Size([3, 128, 256]) torch.Size([128, 256])\n",
      "92\n",
      "torch.Size([3, 128, 256]) torch.Size([128, 256])\n",
      "93\n",
      "torch.Size([3, 128, 256]) torch.Size([128, 256])\n",
      "94\n",
      "torch.Size([3, 128, 256]) torch.Size([128, 256])\n",
      "95\n",
      "torch.Size([3, 128, 256]) torch.Size([128, 256])\n",
      "96\n",
      "torch.Size([3, 128, 256]) torch.Size([128, 256])\n",
      "97\n",
      "torch.Size([3, 128, 256]) torch.Size([128, 256])\n",
      "98\n",
      "torch.Size([3, 128, 256]) torch.Size([128, 256])\n",
      "99\n",
      "torch.Size([3, 128, 256]) torch.Size([128, 256])\n",
      "100\n",
      "torch.Size([3, 128, 256]) torch.Size([128, 256])\n",
      "101\n",
      "torch.Size([3, 128, 256]) torch.Size([128, 256])\n",
      "102\n",
      "torch.Size([3, 128, 256]) torch.Size([128, 256])\n",
      "103\n",
      "torch.Size([3, 128, 256]) torch.Size([128, 256])\n",
      "104\n",
      "torch.Size([3, 128, 256]) torch.Size([128, 256])\n",
      "105\n",
      "torch.Size([3, 128, 256]) torch.Size([128, 256])\n",
      "106\n",
      "torch.Size([3, 128, 256]) torch.Size([128, 256])\n",
      "107\n",
      "torch.Size([3, 128, 256]) torch.Size([128, 256])\n",
      "108\n",
      "torch.Size([3, 128, 256]) torch.Size([128, 256])\n",
      "109\n",
      "torch.Size([3, 128, 256]) torch.Size([128, 256])\n",
      "110\n",
      "torch.Size([3, 128, 256]) torch.Size([128, 256])\n",
      "111\n",
      "torch.Size([3, 128, 256]) torch.Size([128, 256])\n",
      "112\n",
      "torch.Size([3, 128, 256]) torch.Size([128, 256])\n",
      "113\n",
      "torch.Size([3, 128, 256]) torch.Size([128, 256])\n",
      "114\n",
      "torch.Size([3, 128, 256]) torch.Size([128, 256])\n",
      "115\n",
      "torch.Size([3, 128, 256]) torch.Size([128, 256])\n",
      "116\n",
      "torch.Size([3, 128, 256]) torch.Size([128, 256])\n",
      "117\n",
      "torch.Size([3, 128, 256]) torch.Size([128, 256])\n",
      "118\n",
      "torch.Size([3, 128, 256]) torch.Size([128, 256])\n",
      "119\n",
      "torch.Size([3, 128, 256]) torch.Size([128, 256])\n",
      "120\n",
      "torch.Size([3, 128, 256]) torch.Size([128, 256])\n",
      "121\n",
      "torch.Size([3, 128, 256]) torch.Size([128, 256])\n",
      "122\n",
      "torch.Size([3, 128, 256]) torch.Size([128, 256])\n",
      "123\n",
      "torch.Size([3, 128, 256]) torch.Size([128, 256])\n",
      "124\n",
      "torch.Size([3, 128, 256]) torch.Size([128, 256])\n",
      "125\n",
      "torch.Size([3, 128, 256]) torch.Size([128, 256])\n",
      "126\n",
      "torch.Size([3, 128, 256]) torch.Size([128, 256])\n",
      "127\n",
      "torch.Size([3, 128, 256]) torch.Size([128, 256])\n",
      "128\n",
      "torch.Size([3, 128, 256]) torch.Size([128, 256])\n",
      "129\n",
      "torch.Size([3, 128, 256]) torch.Size([128, 256])\n",
      "130\n",
      "torch.Size([3, 128, 256]) torch.Size([128, 256])\n",
      "131\n",
      "torch.Size([3, 128, 256]) torch.Size([128, 256])\n",
      "132\n",
      "torch.Size([3, 128, 256]) torch.Size([128, 256])\n",
      "133\n",
      "torch.Size([3, 128, 256]) torch.Size([128, 256])\n",
      "134\n",
      "torch.Size([3, 128, 256]) torch.Size([128, 256])\n",
      "135\n",
      "torch.Size([3, 128, 256]) torch.Size([128, 256])\n",
      "136\n",
      "torch.Size([3, 128, 256]) torch.Size([128, 256])\n",
      "137\n",
      "torch.Size([3, 128, 256]) torch.Size([128, 256])\n",
      "138\n",
      "torch.Size([3, 128, 256]) torch.Size([128, 256])\n",
      "139\n",
      "torch.Size([3, 128, 256]) torch.Size([128, 256])\n",
      "140\n",
      "torch.Size([3, 128, 256]) torch.Size([128, 256])\n",
      "141\n",
      "torch.Size([3, 128, 256]) torch.Size([128, 256])\n",
      "142\n",
      "torch.Size([3, 128, 256]) torch.Size([128, 256])\n",
      "143\n",
      "torch.Size([3, 128, 256]) torch.Size([128, 256])\n",
      "144\n",
      "torch.Size([3, 128, 256]) torch.Size([128, 256])\n",
      "145\n",
      "torch.Size([3, 128, 256]) torch.Size([128, 256])\n",
      "146\n",
      "torch.Size([3, 128, 256]) torch.Size([128, 256])\n",
      "147\n",
      "torch.Size([3, 128, 256]) torch.Size([128, 256])\n",
      "148\n",
      "torch.Size([3, 128, 256]) torch.Size([128, 256])\n",
      "149\n",
      "torch.Size([3, 128, 256]) torch.Size([128, 256])\n",
      "150\n",
      "torch.Size([3, 128, 256]) torch.Size([128, 256])\n",
      "151\n",
      "torch.Size([3, 128, 256]) torch.Size([128, 256])\n",
      "152\n",
      "torch.Size([3, 128, 256]) torch.Size([128, 256])\n",
      "153\n",
      "torch.Size([3, 128, 256]) torch.Size([128, 256])\n",
      "154\n",
      "torch.Size([3, 128, 256]) torch.Size([128, 256])\n",
      "155\n",
      "torch.Size([3, 128, 256]) torch.Size([128, 256])\n",
      "156\n",
      "torch.Size([3, 128, 256]) torch.Size([128, 256])\n",
      "157\n",
      "torch.Size([3, 128, 256]) torch.Size([128, 256])\n",
      "158\n",
      "torch.Size([3, 128, 256]) torch.Size([128, 256])\n",
      "159\n",
      "torch.Size([3, 128, 256]) torch.Size([128, 256])\n",
      "160\n",
      "torch.Size([3, 128, 256]) torch.Size([128, 256])\n",
      "161\n",
      "torch.Size([3, 128, 256]) torch.Size([128, 256])\n",
      "162\n",
      "torch.Size([3, 128, 256]) torch.Size([128, 256])\n",
      "163\n",
      "torch.Size([3, 128, 256]) torch.Size([128, 256])\n",
      "164\n",
      "torch.Size([3, 128, 256]) torch.Size([128, 256])\n",
      "165\n",
      "torch.Size([3, 128, 256]) torch.Size([128, 256])\n",
      "166\n",
      "torch.Size([3, 128, 256]) torch.Size([128, 256])\n",
      "167\n",
      "torch.Size([3, 128, 256]) torch.Size([128, 256])\n",
      "168\n",
      "torch.Size([3, 128, 256]) torch.Size([128, 256])\n",
      "169\n",
      "torch.Size([3, 128, 256]) torch.Size([128, 256])\n",
      "170\n",
      "torch.Size([3, 128, 256]) torch.Size([128, 256])\n",
      "171\n",
      "torch.Size([3, 128, 256]) torch.Size([128, 256])\n",
      "172\n",
      "torch.Size([3, 128, 256]) torch.Size([128, 256])\n",
      "173\n",
      "torch.Size([3, 128, 256]) torch.Size([128, 256])\n",
      "174\n",
      "torch.Size([3, 128, 256]) torch.Size([128, 256])\n",
      "175\n",
      "torch.Size([3, 128, 256]) torch.Size([128, 256])\n",
      "176\n",
      "torch.Size([3, 128, 256]) torch.Size([128, 256])\n",
      "177\n"
     ]
    },
    {
     "name": "stdout",
     "output_type": "stream",
     "text": [
      "torch.Size([3, 128, 256]) torch.Size([128, 256])\n",
      "178\n",
      "torch.Size([3, 128, 256]) torch.Size([128, 256])\n",
      "179\n",
      "torch.Size([3, 128, 256]) torch.Size([128, 256])\n",
      "180\n",
      "torch.Size([3, 128, 256]) torch.Size([128, 256])\n",
      "181\n",
      "torch.Size([3, 128, 256]) torch.Size([128, 256])\n",
      "182\n",
      "torch.Size([3, 128, 256]) torch.Size([128, 256])\n",
      "183\n",
      "torch.Size([3, 128, 256]) torch.Size([128, 256])\n",
      "184\n",
      "torch.Size([3, 128, 256]) torch.Size([128, 256])\n",
      "185\n",
      "torch.Size([3, 128, 256]) torch.Size([128, 256])\n",
      "186\n",
      "torch.Size([3, 128, 256]) torch.Size([128, 256])\n",
      "187\n",
      "torch.Size([3, 128, 256]) torch.Size([128, 256])\n",
      "188\n",
      "torch.Size([3, 128, 256]) torch.Size([128, 256])\n",
      "189\n",
      "torch.Size([3, 128, 256]) torch.Size([128, 256])\n",
      "190\n",
      "torch.Size([3, 128, 256]) torch.Size([128, 256])\n",
      "191\n",
      "torch.Size([3, 128, 256]) torch.Size([128, 256])\n",
      "192\n",
      "torch.Size([3, 128, 256]) torch.Size([128, 256])\n",
      "193\n",
      "torch.Size([3, 128, 256]) torch.Size([128, 256])\n",
      "194\n",
      "torch.Size([3, 128, 256]) torch.Size([128, 256])\n"
     ]
    }
   ],
   "source": [
    "for i in range(len(dataset)):\n",
    "    print(i)\n",
    "    sample = dataset[i]\n",
    "    print(sample['input'].size(),sample['label'].size())"
   ]
  },
  {
   "cell_type": "code",
   "execution_count": 15,
   "metadata": {
    "collapsed": true
   },
   "outputs": [],
   "source": [
    "for i, data in enumerate(dataloader):\n",
    "        # get the inputs\n",
    "        inputs = data['input']\n",
    "        labels = data['label']\n",
    "        labels = labels.unsqueeze(1)"
   ]
  },
  {
   "cell_type": "code",
   "execution_count": 2,
   "metadata": {
    "collapsed": true
   },
   "outputs": [],
   "source": [
    "import pickle\n"
   ]
  },
  {
   "cell_type": "code",
   "execution_count": 3,
   "metadata": {
    "collapsed": true
   },
   "outputs": [],
   "source": [
    "history = pickle.load( open( model_history_file, \"rb\" ) )"
   ]
  },
  {
   "cell_type": "code",
   "execution_count": 4,
   "metadata": {},
   "outputs": [
    {
     "name": "stdout",
     "output_type": "stream",
     "text": [
      "{'mean_dist': [57.50147523919513, 70.19693564060175, 55.77083745538256, 59.36063040365675, 58.431094817053165, 54.053847190816846, 49.7118234348315, 69.06272238814759, 52.863599473954004, 76.88203524801725, 61.10077144218242, 75.85726991061767, 80.54705091271497, 84.06669477339197, 76.40908955825759, 76.95426326696872, 67.92215978788437, 84.47142089663654, 65.24917090419225, 200.0693987417479, 63.29214170242842, 89.6167948921997, 56.55722270729716, 604.7134104924992, 54.37084628421812, 177.76304675290328, 55.82700335005774, 72.86298568292312, 60.07829782455001, 63.65790754102364, 62.93831635375463, 56.02405924432233, 349.98999436411754, 50.8353175512143, 262.5569827820558, 57.52924180112046, 60.714827127265536, 66.93771930074203, 59.59600892819573, 69.37348242768996, 52.49037308791634, 56.810029153591046, 51.34064973188164, 56.08431021075888, 48.17472073353129, 57.36626595523725, 48.1950458442322, 404.8640958052789, 47.57393487389647, 647.7192257464309, 47.451352615494045, 1320.2569634396718, 49.578380952225984, 59.751758446375035, 50.46163401231248, 55.4259687062096, 46.88327768618438, 45.5945977352476, 48.58984460522299, 42.87638828794572, 44.66630063829666, 43.960853368467035, 41.56569740342023, 46.59952852928346, 43.78338814742806, 47.52313963257707, 38.69586359613882, 46.145466623054105, 43.28284451038736, 44.306989559793664, 43.34471825038392, 73.94511977411082, 46.61065729753689, 30.806961370279733, 618.5431444434697, 45.3512632319451, 355.35003269533536, 50.63683274836647, 63.30828499965603, 54.787011596939834, 57.16077417535688, 50.93221261801612, 49.71877794007864, 45.23235639972139, 48.19814387648342, 46.87022054449839, 48.48381082506236, 49.91785484867122, 99.72404686404863, 47.504820127678684, 327.9254073973874, 46.612066417810645, 481.61435991580834, 48.80779497968319, 207.13481716363304, 48.80614251012698, 34.56149424453818, 55.919109479091475, 50.734073226330054, 64.89462267842534, 59.464080762584814, 60.42027890554229, 57.18649874808202, 58.91962141498893, 54.6719179473547, 58.25315377230806, 51.39697425568171, 50.54419238045856, 50.6527816003882, 46.4507598750627, 46.81127223961519, 46.92100591784201, 48.14621097780508, 43.08814117485302, 123.08895674758793, 48.91013476634939, 38.81561128804674, 63.846164581438195, 52.68252795212613, 52.25402682662602, 58.832644065484025, 58.263863410596585, 54.196256260672754, 54.60852576894156, 47.07790216848907, 48.66785098715408, 37.422481299099914, 51.01283208179684, 41.43696636164461, 48.16662025441427, 41.10846812844605, 48.08560733352867, 33.27850615881805, 43.17690037553094, 36.48547397025766, 41.87849432730924, 45.95917251170822, 40.146856545195696, 45.62933017045051, 39.6046819883874, 41.5028352320281, 42.013772912527955, 40.401965548752656, 40.49956016583101, 39.50284787791345, 39.33375004948043, 33.77357639340926, 87.27726868061144, 34.13529679332046, 38.948716036547346, 37.940238381643525, 37.96566911724211, 38.07771451688646, 35.371355022916006, 48.79849878707364, 40.92261092264742, 44.01862541209479, 41.07796012054516, 39.92012447747224, 38.40194152590978, 39.79680636747683, 37.91655451041841, 34.1736366401023, 453.15537964955524, 44.52488923525929, 343.91459213049154, 36.34696738659366, 23.310043517989765, 122.51885048347191, 47.71171053581361, 379.62803829349104, 47.84642539232223, 46.52520840801757, 41.67852143982942, 46.13658944555172, 41.33300600269318, 44.10352000133378, 23.112304402849787, 211.37619660089007, 44.432672414797246, 44.79361707471601, 45.66359748274595, 45.09026811177144, 39.458178580887655, 37.32454158188478, 3249.9165379162882, 40.413674050437045, 55.77872006821159, 42.01206197063746, 900.3850155758203, 42.57002304372102, 40.33420161303836, 239.87717829088302, 36.29579632744024, 36.24444885909985, 36.981305243249736, 38.132660063676454, 35.99410225098212, 1632.4905797288638, 47.01456599281432, 39.83077849858442, 194.67847836177089, 42.90687602141332, 52.32710588185732, 41.58087692824999, 1334.752545117134, 40.50531591500124, 42.965881500438854, 86.99614202822806, 42.363375399310826, 35.47670958555902, 38.91570893480113, 38.52851969420063, 60.6995757805434, 51.21417435043158, 49.83287786653981, 60.202925424575426, 86.24570937090044, 47.92702677714257, 46.97960367027311, 42.14798326747163, 43.22101055668168, 47.35648818924675, 226.4702279139135, 46.29807387011673, 39.4043671638286, 38.6635969758926, 37.698216351434695, 43.30476811305292, 38.764067810734744, 37.56527963680476, 39.4877478722636, 35.743059293809026, 42.93844579574687, 71.34367077812237, 46.826365706275844, 180.13322490672397, 43.10107191739175, 75.33706481401092, 41.62727080136444, 40.55550261702233, 41.68089635916081, 41.68303883600103, 36.58056089783948, 38.46547153171785, 31.315517525652492, 44.00636568776341, 41.157261048522344, 46.95727481596393, 29.749856528175524, 40.973969329781056, 38.97600866057695, 40.12281268126445, 47.208112772744514, 43.091261469746684, 36.14913732878635, 34.87207289215707, 32.34262516036668, 352.52013735252797, 42.0848401354966, 40.945032042544426, 39.52388342441045, 41.771087150318124, 41.56666947160974, 39.94569308543438, 41.14217093230582, 39.27827832373205, 37.917440673750235, 40.96948504546651, 40.702186409626705, 44.52928758555443, 328.740476541544, 41.28090964015018, 40.93694804550303, 40.03775749741726, 40.37955654358041, 36.78384783135971, 381.45706735052556, 44.53970250709088, 51.08109776317651, 42.79891501821369, 38.4936311104011, 39.39307745998737, 40.57020413939698, 42.05135308761622, 44.89400946264399, 28.2582629846985, 43.42013148799941, 37.36121757137333, 332.58930877680007, 43.34709043252968, 566.862120670627, 44.832953801208774, 41.89532459825364, 43.413267957196965, 40.89818972541819, 45.8531843151372, 34.07995086896837, 64.51688150045761, 55.94926954841854, 50.18808967269843, 52.60314298686001, 48.563069931440936, 65.04999898273081, 55.26177765086027, 45.87119405057406, 48.09816663624795, 50.3070118958623, 46.285839342464186, 46.6106579949567, 43.16401069240946, 45.595580501262766, 44.47353459965553, 42.96035590988278, 37.89770082568363, 47.9218417025711, 39.97670697213133, 42.352631523261984, 43.21729237985579, 43.39869412036568, 42.60719560715134, 40.284665213976616, 42.07669016057593, 46.374113503373664, 45.04600164143954, 243.18039715292832, 41.25963940198777, 40.804334304195294, 37.20286329124101, 41.740084783131415, 42.814948868283864, 155.91446428314214, 46.179026313558936, 46.61311819628757, 42.08815277727467, 137.15108030020872, 41.7389663806587, 65.99475720196446, 39.157970479289375, 39.20675138135465, 41.206763414973295, 37.26058894926331, 40.47116792896661, 38.795091832789126, 37.67841622365301, 200.98438907195572, 40.67021153099032, 38.22862929787331, 48.26700112994253, 35.88051149256427, 39.74336049249529, 35.159028468549735, 44.156529414639365, 39.45301815125728, 179.59799696245167, 37.95992857436167, 45.577104427287225, 46.23725238990861, 43.39133300931609, 54.262971860668074, 40.514483669252144, 34.000918831105885, 39.587516228305496, 36.036140752042215, 41.5434881639599, 29.050200428729674, 53.45313211424169, 35.608753133555446, 224.22412284424897, 36.00018324743644, 64.25377667466063, 42.25146347750545, 480.2307797459408, 39.5160491090088, 39.855828951740435, 31.952525945514658, 40.55904959160053, 33.37977033738585, 262.41963800281724, 37.5713113853523, 37.314199222235544, 40.91271954374301, 114.44786356113914, 48.61151287983093, 48.436906513708166, 4996.403872101426, 46.33171124291564, 43.747885740658845, 44.97397392127601, 40.94050755342079, 44.44892946222931, 39.58315670712436, 42.083450090449176, 37.63414300626841, 38.64365448877634, 35.92741611800143, 40.32800325620413, 36.66473192223292, 38.29498554770457, 40.20878808377084, 37.90879727357074, 35.85332887474367, 36.981816523943436, 38.04751409358896, 36.86615529643913, 41.63795504172522, 37.0032706663563, 41.40053876968962, 36.89054541968106, 39.47260670078993, 30.521398722537988, 41.07987102321265, 35.760535744533854, 132.96443564837915, 43.451190649296265, 40.7720751517337, 34.750474983265974, 40.47150016820172, 33.06318625934902, 297.08240669147455, 38.46252115532913, 39.805800280194404, 39.24562163151504, 36.40627766230419, 234.2749764204656, 43.179929064767684, 45.62681547041714, 43.11658064812764, 73.25453310502374, 41.744730896163404, 27.070766931784533, 467.256543254388, 32.935337885783866, 42.87183338377104, 37.3603911916474, 32.69625522052173, 39.38141381892738, 34.43362943555661, 32.97569877665941, 40.55990325525175, 39.73508764081621, 33.018903922278234, 257.7580830614154, 43.37312313730983, 48.53091706578259, 42.79775580352555, 42.7573376074956, 36.8044437538469, 38.69595308511395, 38.37128811454856, 38.28240091412808, 37.79827423225619, 40.17187210706581, 39.42587673865334, 41.91601638668479, 40.033450985263066, 43.246429028883824, 35.17984999495643, 40.86208005383223, 37.60229828094029, 37.44107714286307, 36.4029401717564, 37.32710600304688, 35.32741674468426, 38.43075685294746, 34.72175399760657, 36.516765809519086, 46.79166066735265, 40.18603943611471, 44.13728856511895, 41.994727621787945, 48.00991350961759, 34.568178964140365, 35.81350346963853, 36.129043226362676, 30.781510044330247, 40.246664785672664, 35.63194312051965, 36.914724563319055, 32.806785901672356, 33.30849621892773, 36.73082083390041, 35.81971604987155, 38.19143921984121, 33.06126424968417, 34.185352749202345, 49.83287658847988, 41.86343592217923, 457.26019661045103, 46.291240824947316, 41.87221058446773, 36.039960274061784, 36.639678657126495, 37.60093218015375, 34.34364189485772, 40.07479401826764, 37.60280482212998, 36.52311382833977, 36.62028824414604, 36.2407978602252, 38.4221462506801, 37.02127100319685, 35.56554503568817, 48.74182435903006, 39.07975636874302, 324.5003275184897, 41.75183312083891, 102.94731104884153, 39.91065183159798, 644.701399444098, 43.36081376687266, 536.7176341114151, 37.91060847108781, 36.90222722632957, 37.69488651942453, 42.12689255886283, 36.3139892902786, 110.0144475666493, 40.590549883370656, 26.156335491973024, 34.13286817992747, 37.81951075721377, 75.52666934602553, 40.15806138914585, 41.10773983255099, 35.596034929192896, 37.6807017499701, 41.51007408284555, 201.02924357266846, 44.77636702671303, 58.56753456530171, 36.81864677683896, 435.8365977354575, 41.07283653817774, 133.50659291434255, 38.8947230150317, 39.7343222205083, 32.11797177706398, 252.96801252967913, 36.89730246297757, 38.958170144120466, 38.90047227974625, 39.7765245828722, 39.225929634881425, 48.23514199642031, 40.977695814347854, 35.69775109064335, 38.460447962891905, 38.31367788324881, 41.16276486128564, 46.967026414283914, 37.74072198121743, 35.754697993960974, 38.130237104352446, 329.42662081500987, 44.32353239768872, 35.76135632898869, 35.849647534510865, 38.780956992981956, 34.943549253794124, 36.2973128897922, 41.82766873905466, 155.72984038956747, 36.131638845896326, 36.25289651869102, 133.0134080698914, 36.35483404576646, 37.05674854891751, 37.030749618625165, 34.91185767165338, 37.98103447841656, 35.8503146792125, 36.06555817472028, 36.663643380349285, 330.642655180543, 39.663998617098244, 34.86613607097221, 37.28608091040772, 234.81510892962905, 38.749242876952465, 34.9601527492506, 42.14758256766491, 38.074977930897205, 35.256006816086085, 81.15334732315463, 38.195607397173646, 76.62750853618988, 43.3540320428591, 28.84687904623783, 1190.153318048152, 44.7986608835075, 50.5051856219369, 38.28764196410963, 41.12083584695226, 36.34321575343387, 41.21945123428084, 35.89184820775358, 37.647080176851375, 64.71059145423031, 43.261543118625795, 35.874147700013424, 35.503240367625324, 35.237696998177576, 41.75516997328181, 39.92547294174136, 43.56121088862513, 34.10023974240549, 45.6654696463071, 40.737469161514504, 267.7220616613301, 40.49756379445623, 265.5755582635335, 39.465743801611126, 359.56858098979944, 40.47605777822642, 38.533805581726746, 36.781638471822724, 194.9246112380837, 40.175637344441114, 193.58333167922115, 38.457517299009766, 38.030880290642685, 40.81812277806929, 38.75578277956245, 47.675758309359765, 39.13094749490047, 31.51579117403331, 79.35455358785802, 38.11146860995026, 273.1844947567995, 41.3772598970274, 332.89789974847554, 42.102511908616705, 314.02256090832384, 40.719802655159825, 368.7903432375085, 40.33186573130021, 89.34639042184567, 33.90290716176965, 71.89100198587158, 34.1751988416649, 38.28125124066453, 49.81231962171187, 37.594999434413054, 35.48414379617262, 34.83072009528187, 35.65841758146702, 28.331864238253083, 16162.652803329129, 47.62739948035653, 487.1691374324332, 45.58415626472984, 596.2397987886673, 33.852723722073776, 37.76664464392304, 36.93768798105161, 37.15933135727035, 34.71993553204363, 34.45557435503741, 36.18861069292323, 38.164189386417945, 51.36702371433306, 37.03957783200535, 38.24121559932568, 38.102276727295276, 39.933971769323826, 38.604566102587995, 43.78791310493254, 34.3785528510503, 33.47145151645606, 36.15483092614095, 39.875808791922495, 36.46563017841378, 36.94331115279884, 281.15319205412317, 40.99005895470704, 561.1460206236356, 48.0979378673736, 133.78562175503254, 37.22676866966349, 39.94495751957332, 40.51591794422848, 36.161520523522846, 36.40564947794234, 36.376463594905054, 37.37574845101709, 36.79414700862604, 36.00361570520457, 37.7402496678215, 34.083219492205814, 38.79456312218828, 34.6637266041442, 326.1811872007912, 44.54929064133771, 815.7683671668581, 40.03163063203657, 39.01629709420036, 35.115844538665144, 43.403219915395006, 39.62539600997613], 'mode_dist': [45.09002606828918, 39.14375871037574, 38.21908143802574, 182.67556970444207, 34.57574577948408, 37.37023577346109, 36.31543787092611, 36.03598218396941, 37.61985920749179, 36.80309581573812, 38.11400121272748, 35.62922713205766, 38.036401853398274, 36.39663854070736, 38.53467465588704, 37.551960945156125, 35.960550104485954, 37.82637086602484, 38.59604778893626, 38.23043882231402, 37.37530551106494, 36.71030298211765, 37.5054656296845, 37.00247751574338, 38.651599017557686, 36.56622248740885, 36.97457116386562, 36.87786524555414, 36.271376783304476, 35.14368156754465, 36.44327646835602, 37.88099525272173, 36.72279103612555, 36.6700118818932, 37.11033014468217, 36.738289664909146, 37.87070987017299, 38.08667384412567, 37.53365948418556, 38.08655021500932, 36.38423245879454, 37.55777895913453, 37.17836405548452, 37.16544358351733, 37.24673090846114, 37.024733526406315, 37.3855808139198, 37.06046050815907, 37.38098936738609, 38.047216112302124, 37.7561086057724, 35.74535332278767, 35.57977610885448, 37.22129198486964, 36.80929739271442, 38.26801062398059, 36.92360491648644, 37.13973700798873, 37.9820913031118, 36.60768004075314, 37.09449817848055, 37.892486180207975, 37.68345899084905, 37.043542617806196, 37.574878393214156, 36.13697990039871, 37.35273472833053, 37.55598242920023, 36.80557331603808, 36.87660468005464, 37.02256248934368, 38.48370053482646, 35.74998666277037, 37.62467213984716, 36.937212893877835, 37.1980377971985, 37.89848579443216, 37.511733879244964, 36.13810533024794, 38.16878711869479, 37.01097951799447, 37.72508684983977, 37.3965158041959, 37.28560945015039, 36.854789250677996, 36.456427055665586, 38.568316891216895, 36.44443256129787, 37.14886052698626, 37.44095522004555, 37.09021737028317, 36.26344510515057, 37.4450348732058, 36.99639119874557, 37.66229243647295, 34.95066671267418, 37.288380641603254, 34.92589754417088, 36.46788496977995, 38.110456096208694, 36.76914892549179, 36.98470620754328, 36.03743506059284, 37.08510320021506, 36.14394773461689, 38.38803774855898, 35.66655761573877, 36.87712759921637, 36.73678138360958, 36.70176492421525, 36.07943354475158, 36.97894936390429, 37.71433358752646, 34.37175664788717, 37.04010173123426, 33.41239764696179, 38.13112410647648, 36.91628253291119, 36.56662259411965, 37.13477505725864, 36.61514966083897, 36.63696640276963, 38.002165118694805, 36.00295918412308, 36.61285849658247, 34.18349862939283, 37.622831868033856, 35.233065217410044, 36.125822363697225, 36.54899999175419, 36.696323720736146, 35.47886140760904, 37.168396926031576, 36.15368679234369, 37.26807932759147, 35.35124152915606, 36.90966704605924, 35.133465007621666, 36.918128964215434, 36.513779114282315, 36.84427195383542, 36.55517297781636, 35.111323990028, 36.61812639448786, 36.12904857211295, 34.50461039758251, 36.24743792922784, 32.872268624024265, 36.61342255802067, 37.947213410520185, 36.82193405946021, 35.30787235638603, 37.32514312915232, 36.16421628962733, 35.00467410209477, 36.37164264875288, 36.92071005663443, 36.13786364384052, 37.8842357818426, 35.55004347649882, 37.05223386118777, 36.66581664672497, 35.54254558350995, 34.34382687496433, 36.957885330075705, 36.63169111444029, 34.870657173084645, 34.98058950268013, 36.80862979216905, 37.025460258513604, 35.54059146470722, 34.88525909103521, 35.80661807649052, 35.337330431568475, 36.64422330305331, 36.37956989050926, 35.115521505148465, 37.44597588110091, 36.230223327362985, 36.74972407536547, 36.49696473953385, 37.648643178346006, 37.29572420411121, 34.77684865118342, 36.221077698583365, 37.801955818815294, 35.94028535688079, 37.352468846543466, 37.62166183485994, 37.66410489136868, 35.948329328233754, 37.06660088242051, 35.62113634346126, 36.68605593066908, 36.05605498700092, 37.17371130150097, 36.17621863081512, 37.056131787612514, 37.23798928994656, 37.79560108717594, 36.22726338343517, 35.607002004437476, 36.157801257414775, 36.004230454688745, 37.36901763375428, 35.82941985931764, 36.10984219278566, 35.81269397278775, 36.66031216891042, 37.67957091052026, 36.04356912389489, 37.33882974902905, 36.44696958697034, 36.81979517556091, 34.61095624718746, 35.35736048277417, 37.76711867735213, 37.9813003474851, 37.14148005112101, 36.72820021236781, 36.10458150390259, 37.96466314108926, 35.75328431628152, 39.36517616479361, 37.43402850397504, 37.71349017293201, 36.34913427177432, 36.76086965249405, 37.842694987263876, 35.03676113956762, 35.65886505747021, 37.718397332546566, 38.15394909488315, 37.66355001574294, 36.948041888094906, 36.16585287005721, 37.08343147315945, 38.147382074123016, 36.44971218583281, 36.70312247257753, 36.63442949270971, 36.6986904846101, 36.91386626643781, 36.34370375773276, 35.798139189814236, 37.74399437169084, 37.79248641031571, 38.230315456773496, 38.31322494004556, 37.04343755267252, 35.87540828586595, 37.75129181972717, 36.03254147285477, 37.88555071920821, 37.08861484839235, 38.555681212265654, 35.81260465077756, 37.997401164262826, 36.02922701574095, 37.23246518909725, 37.38444071456538, 35.94808191366931, 36.45414973787048, 37.60059586837214, 35.07872002845053, 38.30621933288892, 36.142807620288394, 37.498771632379295, 37.39381713946188, 37.28445887279972, 37.20971577317826, 36.03393656788628, 37.05138660301462, 37.84162176328014, 38.13420230722909, 37.21917095345697, 36.89742903985872, 36.890129026170825, 37.606099338619586, 39.39995119038828, 37.321645185893004, 35.59634522876404, 37.63386602745148, 36.51719177653546, 38.15127426876362, 37.84293225513048, 36.79847043015524, 37.53165499681169, 37.39818364766087, 37.65446972370384, 37.39510138223754, 38.07721366836888, 37.49742954471095, 36.064190180334094, 36.793322566902596, 36.846123621929884, 37.67391579700539, 37.68700898017331, 35.75386573101109, 38.987089497668386, 36.97632077756529, 37.15966119837269, 37.207525934987196, 36.28679503619782, 36.914025378363945, 36.3448314818489, 36.38944843089621, 38.03320526441906, 37.03578470161668, 38.15872090902363, 36.12959734490272, 37.121978531549544, 37.0573876614209, 37.53599920256619, 35.87693879052206, 37.846378363281204, 36.33609262548712, 37.516630905043854, 36.76762741676929, 35.92928507651882, 36.06174488885131, 36.183167788855094, 35.8937320369845, 37.83574203638274, 37.22467718270102, 37.13378241012783, 37.34787787651629, 37.1571718571082, 35.07366517525784, 38.09944808681858, 37.972024225910204, 37.268489943861375, 38.09971491564205, 36.88260691004562, 38.02436108471905, 36.12852344143785, 36.14123901869656, 37.19741791617866, 36.94086039050831, 36.77434428040612, 37.45906570734343, 36.41694341559994, 37.209816707610216, 37.07722200807163, 36.11119377962022, 36.676703912136325, 36.798021423120915, 37.52209880367211, 37.40091751371587, 37.24688386058358, 38.23032358874367, 36.84835498047677, 36.11575837324138, 37.38153267609198, 37.2119636973611, 36.117310822972165, 37.96039703941865, 37.34156945855892, 36.746202770328765, 35.21060583255733, 36.381571991991734, 36.43151272913005, 37.24219347782072, 37.694369943886386, 37.549525268781686, 36.59376394669209, 38.399568891945734, 37.40968453874449, 37.01330258403726, 38.04238564584058, 35.65568198087065, 38.338655254262484, 37.02138278601599, 36.600927327145946, 36.704065169487784, 36.49821803974062, 36.671037032565664, 36.503573894047406, 37.5628745879071, 35.55124613178095, 37.395464339592266, 36.90210640800368, 35.930600384393244, 36.32933004762526, 36.70319038159567, 37.66141035087219, 36.898551638172464, 36.80282748572833, 36.819941600926825, 37.02930942307065, 37.0571203814516, 37.907377172079485, 37.953895184632586, 37.19850207836194, 35.87912086439294, 37.34345427262815, 36.94855027806089, 37.01056599192993, 36.67792190879666, 38.155286642278675, 36.60120124189615, 37.77218841046347, 36.418427942557194, 35.92800440819103, 37.14112765953577, 36.87184579889997, 36.578471521716246, 37.252553966747236, 37.309402276792696, 37.69873017893059, 36.551504893203855, 37.67113754024564, 37.487920915657725, 36.10089265972336, 37.76717118218682, 37.98854089914707, 35.96811982294362, 37.85514714908392, 35.4972423690354, 36.75351116630081, 36.761421353729176, 37.26060360067557, 36.906048628141576, 37.21892512446587, 37.16171762901823, 37.2350623483249, 36.21330896391428, 37.462750084170324, 37.56801165663977, 37.46188208027161, 37.1535801649706, 38.15268326681276, 36.481701073044604, 38.3328508017826, 36.95253886935798, 37.48939825056842, 36.44867701364637, 35.78759739614776, 36.12388342758081, 35.0627195492314, 38.67234365616848, 37.42205901276387, 36.172374480937755, 37.01485324715232, 36.93318526131731, 37.37743650766324, 37.688898437784644, 36.23746120926709, 36.316297004163516, 36.44594709322805, 37.0038309718111, 36.65008309732538, 37.15566266453533, 37.633378753380185, 35.97739917741521, 37.30503770583935, 36.23755930311201, 36.40145745530322, 37.535165997477264, 34.81932156064812, 36.67693601585539, 37.270673793613355, 36.1554270370895, 37.098279668300044, 36.3825640088527, 36.56287506409815, 36.95780776777603, 39.03691424057476, 37.32382993398185, 37.04814645683918, 37.78883842404946, 35.93456814903056, 35.565086695988555, 36.63703081451716, 36.07051709902211, 37.6048211452443, 36.60903006222085, 38.31437903869609, 37.8154378944414, 36.153638183636055, 37.35829348422555, 37.871107651926536, 36.01125944434642, 37.57496681337558, 35.82560528698886, 37.60792323978117, 37.079418501268975, 37.51735328253356, 36.73200754680017, 37.75941320520434, 35.903575656921376, 37.04983013532613, 36.35148112962179, 37.078783495718895, 35.80469158813789, 38.245121509534144, 37.879628513354476, 37.117117873145446, 36.731090907030534, 36.98641377663391, 37.19994212385711, 37.85676921462783, 36.348152665308106, 37.498066837483194, 37.15406476300858, 36.259039915564834, 36.25832534624267, 36.7812779857564, 36.865001201018266, 37.758193911964646, 37.68424538675184, 36.568432975214705, 36.9032274349333, 36.28316942532769, 37.70132188492566, 37.391553206779946, 35.71061174432766, 36.80009946909655, 37.13260415884819, 35.7185782133553, 37.79771390166262, 36.872431556543226, 36.740061961002695, 38.32994007610904, 37.21289528587093, 36.5384348245446, 37.33790160560237, 37.66137954584646, 36.57563889085297, 37.75986623096284, 35.98459852122024, 36.70093563960292, 36.82661047283306, 36.621383398464616, 35.99508411310808, 37.31742865555955, 36.40003455211272, 36.24351179468189, 35.83475935533252, 38.038126147279165, 36.91122794021426, 37.30762425010744, 37.63776950554479, 37.19833636357188, 37.417551281710395, 37.209243785155635, 37.354832327910636, 36.44911623914133, 36.302514110522495, 37.514632692405385, 36.89617625334517, 36.9377203110507, 35.98113118576114, 37.43982548668783, 37.169788326126636, 37.021190235296835, 35.48973486045223, 37.20841118470685, 37.20806762195204, 35.65064058569711, 36.85671446647979, 37.67486558491319, 37.786257046035864, 36.555372074050275, 37.07663417240982, 37.27586366139594, 35.62970730598383, 36.44648999480155, 37.317513033872274, 35.96424209919566, 37.368279041966005, 36.96698855295771, 36.87915443972842, 34.98933698026743, 36.382505664285, 36.757726071787104, 36.84980055534677, 37.08954293266517, 37.47047195681694, 37.180337680630366, 37.002284795653814, 36.815049653134565, 36.242948296395916, 37.38412229518035, 36.27807813092778, 36.11626037733628, 36.61717754327694, 37.280101328551396, 36.242377953696646, 35.72577747590242, 36.56528079725649, 35.85502705151704, 38.14688124223411, 36.64413902752008, 37.55714272981765, 36.99884567270553, 38.08953558616322, 36.362211906635935, 36.88551227423967, 38.12219956034885, 35.45186307477546, 37.06862943737612, 36.95978722051469, 36.589038217107486, 37.56096968800081, 38.79595039110161, 36.681532650604325, 37.124928259581125, 38.00971132818614, 37.044533495499955, 36.0375542398391, 37.134129766409686, 35.96869059333443, 36.57518187777576, 37.99600443997095, 36.03959841432501, 38.20373667285401, 34.687908972936725, 35.99841751563224, 37.61092212703218, 35.95892546533567, 36.58269010338556, 37.7433669073262, 36.60405038504713, 36.526229576830694, 36.43526606492502, 36.6877577897557, 38.36790770856123, 35.76976770129839, 37.105727380760285, 36.97899559484013, 36.25843806876979, 38.1835058316351, 36.034329977642315, 35.958918836769186, 36.40791282107375, 36.65748127773759, 37.58516340769222, 35.8178355076068, 35.88388019685023, 35.554497683515145, 37.30954651807146, 37.146372242037685, 36.73867400370705, 36.51586225958568, 35.94019930730719, 36.2650956164171, 38.008849312951796, 37.44693193755724, 37.048925037731074, 37.25155373218725, 38.096116866076045, 37.31341375136128, 35.761646888169956, 35.68106264480619, 37.6309606176461, 37.80258579382783, 36.36887212060347, 36.09356788228686, 35.79714505135763, 37.16242103443058, 35.789217013665294, 37.436646029541265, 37.30594237976935, 36.27000030784136, 36.87956921318532, 37.524487261028185, 36.08488522344499, 37.72379416956856, 37.75397554848944, 36.07717225461916, 35.49778964124476, 36.7248737792233, 35.768131889330434, 36.86183365853479, 36.20793088536874, 37.389338210531676, 37.239675320571415, 36.7598933250612, 35.806043541802126, 35.81593078861505, 36.66207427766885, 37.40222285181004, 37.2302603625115, 35.40871315164775, 37.102669588004886, 36.74260970390597, 35.89873596018575, 37.165661450083334, 36.66462111225147, 37.76009763603663, 35.92034524263035, 36.99116932145317, 36.81114456719097, 36.27191003178814, 36.78859685626939, 36.48516361274853, 35.913276434613636, 37.59552430471173, 37.17888602495663], 'loss': [25585.306640625, 15480.2158203125, 15503.919921875, 14965762.0, 32507.017578125, 20392.009765625, 22602.197265625, 14919.271484375, 19060.9609375, 13637.9248046875, 10494.5361328125, 10425.8642578125, 11999.447265625, 11477.6806640625, 12889.9306640625, 10087.6376953125, 11925.3955078125, 11608.642578125, 10976.4638671875, 3875.3076171875, 10786.7880859375, 10747.580078125, 10718.25, 10938.2001953125, 12462.677734375, 12718.994140625, 11450.01171875, 11259.1181640625, 10394.9140625, 10903.0322265625, 11153.57421875, 9561.123046875, 9453.2333984375, 10536.8671875, 10672.23828125, 9892.427734375, 10118.1015625, 10477.81640625, 9065.494140625, 3986.755126953125, 11089.6142578125, 9757.5595703125, 10761.7783203125, 10247.3193359375, 9100.1787109375, 10648.2470703125, 8880.6533203125, 8917.54296875, 10269.212890625, 10062.21875, 11482.3125, 11865.240234375, 10155.5439453125, 10085.7783203125, 10667.2333984375, 9545.671875, 10688.5146484375, 11249.697265625, 10230.462890625, 4471.10791015625, 9297.017578125, 9788.3037109375, 11269.5859375, 8261.9892578125, 12420.12109375, 10851.2568359375, 9484.810546875, 10315.978515625, 10160.0966796875, 9626.572265625, 8775.0927734375, 11281.9541015625, 10131.7255859375, 10595.9169921875, 10471.3759765625, 9612.9609375, 10517.5673828125, 10465.0595703125, 9024.0654296875, 4864.001953125, 9673.2294921875, 9503.0478515625, 9565.583984375, 9666.80859375, 9851.046875, 9892.748046875, 10312.7236328125, 11468.9912109375, 10152.73828125, 10972.0732421875, 9765.3359375, 9324.1376953125, 10593.44921875, 8369.505859375, 8834.5615234375, 9622.2578125, 11042.0234375, 14427.1904296875, 13381.396484375, 3397.59423828125, 9078.349609375, 10527.373046875, 10193.298828125, 10378.048828125, 10345.6005859375, 10446.9462890625, 10073.2900390625, 8983.201171875, 9380.501953125, 8693.3154296875, 9247.953125, 9907.1220703125, 8543.427734375, 8564.2626953125, 10074.72265625, 11217.212890625, 9187.533203125, 13024.087890625, 9689.4296875, 4247.75732421875, 11071.013671875, 10691.08984375, 9783.7060546875, 8863.453125, 10098.73828125, 10668.9365234375, 8749.7890625, 10615.216796875, 7779.12060546875, 7454.88525390625, 10528.232421875, 9683.8056640625, 8137.85107421875, 9494.5400390625, 10547.064453125, 9292.0810546875, 9533.208984375, 9668.84375, 9342.015625, 4206.1884765625, 7750.98486328125, 8874.9521484375, 9527.1376953125, 9681.6083984375, 10745.208984375, 9667.53125, 11390.298828125, 12967.9287109375, 9009.44921875, 9308.0322265625, 9493.1220703125, 8495.2861328125, 8480.021484375, 8699.7265625, 9226.5361328125, 8401.53125, 8419.8388671875, 9330.70703125, 9129.7783203125, 3309.746337890625, 8590.00390625, 9996.0927734375, 9625.056640625, 8935.2880859375, 7978.11376953125, 9435.7275390625, 10349.2314453125, 14335.0439453125, 9516.3671875, 9337.7900390625, 9321.458984375, 8544.2734375, 8418.8974609375, 9171.3076171875, 9468.23046875, 9837.2744140625, 7918.8525390625, 9214.9326171875, 10214.3330078125, 3458.989990234375, 8744.400390625, 9251.06640625, 9132.29296875, 10036.7734375, 8056.14404296875, 8218.1357421875, 7442.205078125, 9104.6533203125, 9214.1669921875, 9127.4541015625, 8565.7197265625, 8973.189453125, 9920.6982421875, 9436.51953125, 8667.203125, 8391.1962890625, 8161.03125, 8589.7314453125, 8784.36328125, 3340.65283203125, 8228.9619140625, 9951.22265625, 8322.869140625, 8967.109375, 7945.84130859375, 9354.1240234375, 9196.1806640625, 8723.2294921875, 7929.5, 7479.8232421875, 8152.40185546875, 10510.626953125, 8775.0205078125, 12482.03125, 9065.2509765625, 9612.7353515625, 8426.333984375, 7795.6689453125, 8562.1455078125, 3525.95166015625, 8915.748046875, 9735.15625, 10807.0927734375, 9076.7822265625, 8764.7578125, 8073.9013671875, 7870.9189453125, 8338.607421875, 8167.04638671875, 7919.70849609375, 8213.9638671875, 9154.763671875, 8046.45947265625, 8992.4365234375, 10165.3857421875, 9155.14453125, 7928.3232421875, 7629.9013671875, 7933.02978515625, 2880.76318359375, 8516.6552734375, 9811.46484375, 7957.61083984375, 9104.5986328125, 8527.369140625, 7593.92041015625, 8552.6298828125, 9117.806640625, 8424.2666015625, 8439.0576171875, 8040.5927734375, 9005.9423828125, 7563.42626953125, 8172.82373046875, 9508.8271484375, 8867.0888671875, 7995.87890625, 8607.791015625, 7662.8232421875, 2385.787109375, 7294.7568359375, 8496.76953125, 7604.91455078125, 8881.744140625, 6921.47900390625, 8091.10400390625, 8223.0625, 9268.1884765625, 8653.439453125, 9047.7705078125, 8505.466796875, 8002.14208984375, 9641.638671875, 8049.90771484375, 8936.50390625, 8730.294921875, 7411.30224609375, 8531.8623046875, 8474.779296875, 3297.14208984375, 7664.90087890625, 8266.4736328125, 7264.7373046875, 9003.2158203125, 9941.9599609375, 9305.671875, 8353.0595703125, 7873.412109375, 8484.9287109375, 10076.2626953125, 8499.966796875, 6762.47998046875, 7084.3076171875, 8818.072265625, 7590.107421875, 9484.7978515625, 8382.056640625, 9078.970703125, 11417.2451171875, 2885.785888671875, 8589.4541015625, 8616.869140625, 8519.0712890625, 8336.08203125, 8000.67333984375, 8698.65234375, 7193.68212890625, 7562.38916015625, 9724.517578125, 8133.1455078125, 8412.62890625, 8297.056640625, 7965.65087890625, 7816.19580078125, 9718.9072265625, 7579.4775390625, 8328.0556640625, 8034.22314453125, 8004.029296875, 2334.98486328125, 8209.1826171875, 8070.28955078125, 7800.55810546875, 8384.4248046875, 7224.73095703125, 7552.025390625, 9403.77734375, 7445.13720703125, 8148.04296875, 7838.48291015625, 8465.9287109375, 9077.3681640625, 8261.2109375, 7544.18115234375, 8067.76611328125, 8923.177734375, 8168.0712890625, 8293.8740234375, 8399.732421875, 3264.250732421875, 8475.23046875, 7713.869140625, 8500.8095703125, 8860.6357421875, 6991.53466796875, 8471.59765625, 7906.24560546875, 9984.2578125, 8138.75830078125, 8914.7255859375, 8395.3994140625, 7771.24951171875, 7668.67724609375, 6852.42578125, 7010.21875, 9104.2822265625, 7539.30224609375, 8248.1142578125, 6776.03564453125, 3475.133056640625, 7081.61962890625, 8772.6875, 7745.9990234375, 8030.3623046875, 9540.45703125, 9315.4248046875, 7596.22607421875, 8172.71826171875, 7504.845703125, 8256.708984375, 8183.21142578125, 7108.67529296875, 6936.65869140625, 7599.38720703125, 9518.556640625, 9161.1787109375, 8674.73828125, 7606.5205078125, 7672.32177734375, 2456.6513671875, 8926.74609375, 7923.62451171875, 7664.63818359375, 7717.36376953125, 7459.09619140625, 9171.5322265625, 8698.662109375, 8938.1357421875, 7942.88427734375, 8070.05615234375, 7321.61572265625, 8104.20068359375, 8581.65625, 7663.05908203125, 7529.45703125, 7801.060546875, 8433.966796875, 8019.66455078125, 7054.81201171875, 3653.5107421875, 8389.9716796875, 7589.36669921875, 8052.01953125, 7635.69921875, 9113.7822265625, 8513.5869140625, 8154.71484375, 7241.71923828125, 8686.357421875, 7463.33935546875, 7294.3623046875, 7720.666015625, 7731.240234375, 8365.7353515625, 6627.64404296875, 7526.82080078125, 7216.32080078125, 7419.01611328125, 8423.2080078125, 3120.880859375, 7812.3720703125, 8076.20556640625, 8653.873046875, 6767.984375, 7412.2470703125, 8275.7314453125, 7364.63427734375, 6461.40185546875, 7219.6748046875, 7404.021484375, 7694.70458984375, 8710.0302734375, 8771.57421875, 8544.6201171875, 8627.84765625, 8131.3505859375, 7220.75244140625, 8362.3984375, 9209.59765625, 3156.749267578125, 8444.9248046875, 8819.94140625, 7972.6259765625, 8570.91015625, 7657.4404296875, 7202.86865234375, 8651.9306640625, 7662.5830078125, 8319.1953125, 7857.91552734375, 8170.4580078125, 6693.89208984375, 8086.5234375, 7562.9267578125, 6579.30322265625, 8315.0693359375, 7533.9775390625, 7383.77197265625, 6960.23779296875, 3277.006591796875, 6947.3828125, 7148.73876953125, 7004.3720703125, 8496.1884765625, 8526.4267578125, 8451.59375, 7068.5615234375, 8125.7939453125, 7922.26123046875, 8138.2119140625, 8131.314453125, 7515.0009765625, 6283.48291015625, 7754.8896484375, 8314.8857421875, 8342.6259765625, 8165.20654296875, 8580.7724609375, 7400.89892578125, 3227.285888671875, 7900.94384765625, 7893.24267578125, 7109.46630859375, 8565.4296875, 8898.4677734375, 7812.52099609375, 8108.525390625, 7729.67626953125, 7760.36376953125, 7381.2275390625, 7763.13623046875, 7319.14501953125, 6564.6767578125, 7181.228515625, 7450.30859375, 7649.69287109375, 6654.5810546875, 7284.10205078125, 7102.3720703125, 3420.3330078125, 6427.63916015625, 8206.5966796875, 8004.74658203125, 8518.390625, 6921.587890625, 8162.6640625, 8147.8046875, 8179.068359375, 6988.20458984375, 7739.4912109375, 7623.9013671875, 7269.908203125, 7768.0166015625, 7749.8251953125, 7984.3447265625, 8242.8095703125, 7674.17431640625, 8706.060546875, 8897.111328125, 2381.4482421875, 8620.8740234375, 7354.07861328125, 7660.74072265625, 7781.27783203125, 6791.423828125, 7614.1728515625, 8933.580078125, 8292.4970703125, 6866.98828125, 6789.095703125, 7054.80126953125, 7241.07470703125, 7776.1767578125, 7281.0234375, 7701.8857421875, 8343.666015625, 8136.568359375, 7743.48193359375, 7559.57568359375, 3253.104248046875, 7864.4990234375, 7244.70556640625, 7844.755859375, 8646.43359375, 7182.44189453125, 7007.9189453125, 8450.775390625, 7229.59765625, 7379.595703125, 7256.3037109375, 7493.9482421875, 7191.3994140625, 7253.60791015625, 7491.53515625, 6876.18310546875, 8386.076171875, 7151.4697265625, 7257.08642578125, 8751.6025390625, 3544.372802734375, 8672.603515625, 7312.6826171875, 8012.07275390625, 8010.5146484375, 7203.04638671875, 7121.75244140625, 8330.6240234375, 8095.3349609375, 7357.61083984375, 7709.53466796875, 7294.90673828125, 7115.5107421875, 8351.580078125, 6533.345703125, 6782.859375, 7666.560546875, 7638.466796875, 7552.5185546875, 6787.9716796875, 3228.365234375, 7241.4794921875, 7551.06640625, 7135.2373046875, 6321.88671875, 7474.87744140625, 7059.33984375, 8843.5068359375, 8333.404296875, 8420.5341796875, 8532.203125, 7150.9775390625, 7323.35986328125, 8191.13720703125, 7446.7265625, 8443.6708984375, 7336.0283203125, 8207.5703125, 6949.52001953125, 7875.89990234375, 2540.62890625, 6885.90966796875, 7242.16259765625, 8597.2783203125, 6787.12548828125, 8487.8369140625, 8216.0146484375, 6912.5888671875, 6771.94580078125, 7997.6083984375, 7313.4267578125, 7358.28857421875, 8025.4091796875, 7795.2158203125, 6570.8876953125, 7230.228515625, 7702.58740234375, 7517.7177734375, 6779.49462890625, 5996.52880859375, 3743.422607421875, 6076.90673828125, 8047.27099609375, 7529.6953125, 6264.025390625, 6515.81298828125, 8101.1279296875, 7750.51904296875, 7928.20556640625, 6820.43896484375, 7685.70068359375, 7544.25390625, 8735.62890625, 8248.576171875, 9313.033203125, 6010.68994140625, 7008.97607421875, 7194.93505859375, 7012.64404296875, 7791.66552734375, 2638.646240234375, 6867.08154296875, 7479.78076171875, 7805.3544921875, 7434.69287109375, 7491.64794921875, 8379.0234375, 7914.18798828125, 6989.22021484375, 7153.07763671875, 8457.3046875, 8992.3603515625, 6604.05517578125, 7519.06640625, 8441.33984375, 7254.974609375, 6717.3251953125, 7786.34375, 6744.76513671875, 6137.29931640625, 2846.879638671875, 6194.5244140625, 6844.4658203125, 7894.990234375, 7285.04541015625, 7284.841796875, 8143.52587890625, 7342.78857421875, 6894.28662109375, 8400.9853515625, 7260.49365234375, 7588.078125, 7473.1689453125, 8707.2568359375, 7033.74365234375, 7436.2587890625, 8247.2568359375, 6986.59228515625, 7101.32666015625, 7088.38037109375, 3370.214111328125, 7133.7861328125, 7578.79833984375, 6529.59130859375, 7822.2119140625, 7954.92138671875, 6796.392578125, 7231.14794921875, 7078.58349609375, 7050.89208984375, 9939.072265625, 7301.658203125, 6962.4375, 7815.88427734375, 7012.451171875, 6500.85498046875, 7444.24658203125, 6950.1591796875, 8417.5078125, 8288.8916015625, 2405.834716796875]}\n"
     ]
    }
   ],
   "source": [
    "print(history)"
   ]
  },
  {
   "cell_type": "code",
   "execution_count": null,
   "metadata": {
    "collapsed": true
   },
   "outputs": [],
   "source": []
  },
  {
   "cell_type": "code",
   "execution_count": 18,
   "metadata": {},
   "outputs": [
    {
     "data": {
      "image/png": "[encoded data removed]",
      "text/plain": [
       "<Figure size 432x288 with 1 Axes>"
      ]
     },
     "metadata": {},
     "output_type": "display_data"
    }
   ],
   "source": [
    "plot_metrics(history['mean_dist'],'distance of the mean centroid')\n"
   ]
  },
  {
   "cell_type": "code",
   "execution_count": 19,
   "metadata": {},
   "outputs": [
    {
     "data": {
      "image/png": "[encoded data removed]",
      "text/plain": [
       "<Figure size 432x288 with 1 Axes>"
      ]
     },
     "metadata": {},
     "output_type": "display_data"
    }
   ],
   "source": [
    "plot_metrics(history['mode_dist'],'distance of the mode centroid')"
   ]
  },
  {
   "cell_type": "code",
   "execution_count": 20,
   "metadata": {},
   "outputs": [
    {
     "data": {
      "image/png": "[encoded data removed]",
      "text/plain": [
       "<Figure size 432x288 with 1 Axes>"
      ]
     },
     "metadata": {},
     "output_type": "display_data"
    }
   ],
   "source": [
    "plot_metrics(history['loss'], 'MSE')"
   ]
  },
  {
   "cell_type": "code",
   "execution_count": null,
   "metadata": {
    "collapsed": true
   },
   "outputs": [],
   "source": []
  }
 ],
 "metadata": {
  "kernelspec": {
   "display_name": "Python 3",
   "language": "python",
   "name": "python3"
  },
  "language_info": {
   "codemirror_mode": {
    "name": "ipython",
    "version": 3
   },
   "file_extension": ".py",
   "mimetype": "text/x-python",
   "name": "python",
   "nbconvert_exporter": "python",
   "pygments_lexer": "ipython3",
   "version": "3.6.1"
  }
 },
 "nbformat": 4,
 "nbformat_minor": 2
}
